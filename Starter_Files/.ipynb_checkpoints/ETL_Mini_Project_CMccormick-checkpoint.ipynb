{
 "cells": [
  {
   "cell_type": "code",
   "execution_count": null,
   "metadata": {},
   "outputs": [],
   "source": [
    "# Import dependencies\n",
    "import pandas as pd\n",
    "import numpy as np\n",
    "pd.set_option('max_colwidth', 400)"
   ]
  },
  {
   "cell_type": "markdown",
   "metadata": {},
   "source": [
    "### Extract the crowdfunding.xlsx Data"
   ]
  },
  {
   "cell_type": "code",
   "execution_count": null,
   "metadata": {},
   "outputs": [],
   "source": [
    "# Read the data into a Pandas DataFrame\n",
    "crowdfunding_info_df = pd.read_excel('Resources/crowdfunding.xlsx')\n",
    "crowdfunding_info_df.head()"
   ]
  },
  {
   "cell_type": "code",
   "execution_count": null,
   "metadata": {},
   "outputs": [],
   "source": [
    "crowdfunding_info_df.info()"
   ]
  },
  {
   "cell_type": "code",
   "execution_count": null,
   "metadata": {},
   "outputs": [],
   "source": [
    "# Get a brief summary of the crowdfunding_info DataFrame.\n",
    "\n",
    "# Split the \"category & sub-category\" column into separate \"category\" and \"sub-category\" columns\n",
    "#crowdfunding_info_df = pd.DataFrame()\n",
    "crowdfunding_info_df[[\"category\",\"subcategory\"]] = crowdfunding_info_df['category & sub-category'].str.split(\"/\", n=1, expand=True)\n",
    "crowdfunding_info_df"
   ]
  },
  {
   "cell_type": "markdown",
   "metadata": {},
   "source": [
    "### Create the Category and Subcategory DataFrames\n",
    "---\n",
    "**Create a Category DataFrame that has the following columns:**\n",
    "- A \"category_id\" column that is numbered sequential form 1 to the length of the number of unique categories.\n",
    "- A \"category\" column that has only the categories.\n",
    "\n",
    "Export the DataFrame as a `category.csv` CSV file.\n",
    "\n",
    "**Create a SubCategory DataFrame that has the following columns:**\n",
    "- A \"subcategory_id\" column that is numbered sequential form 1 to the length of the number of unique subcategories.\n",
    "- A \"subcategory\" column that has only the subcategories. \n",
    "\n",
    "Export the DataFrame as a `subcategory.csv` CSV file."
   ]
  },
  {
   "cell_type": "code",
   "execution_count": null,
   "metadata": {},
   "outputs": [],
   "source": [
    "# Get the crowdfunding_info_df columns.\n",
    "crowdfunding_info_df.info()"
   ]
  },
  {
   "cell_type": "code",
   "execution_count": null,
   "metadata": {},
   "outputs": [],
   "source": [
    "# Assign the category and subcategory values to category and subcategory columns.\n",
    "# Create the Category DataFrame\n",
    "categories = crowdfunding_info_df['category'].unique()\n",
    "category_id_map = {category: i+1 for i, category in enumerate(categories)}\n",
    "category_df = pd.DataFrame({'category_id': range(1, len(categories)+1),\n",
    "                            'category': categories})\n",
    "category_df.to_csv('category.csv', index=False)\n",
    "\n"
   ]
  },
  {
   "cell_type": "code",
   "execution_count": null,
   "metadata": {},
   "outputs": [],
   "source": [
    "# Create the SubCategory DataFrame\n",
    "subcategories = crowdfunding_info_df['subcategory'].unique()\n",
    "subcategory_id_map = {subcategory: i+1 for i, subcategory in enumerate(subcategories)}\n",
    "subcategory_df = pd.DataFrame({'subcategory_id': range(1, len(subcategories)+1),\n",
    "                                'subcategory': subcategories})\n",
    "subcategory_df.to_csv('subcategory.csv', index=False)"
   ]
  },
  {
   "cell_type": "code",
   "execution_count": null,
   "metadata": {},
   "outputs": [],
   "source": [
    "# Get the unique categories and subcategories in separate lists.\n",
    "\n",
    "# Get the unique categories and subcategories\n",
    "unique_categories = crowdfunding_info_df['category'].unique().tolist()\n",
    "unique_subcategories = crowdfunding_info_df['subcategory'].unique().tolist()\n",
    "\n",
    "# Print the unique categories and subcategories\n",
    "print(\"Unique Categories:\", unique_categories)\n",
    "print(\"Unique Subcategories:\", unique_subcategories)\n",
    "\n",
    "print(categories)\n",
    "print(subcategories)"
   ]
  },
  {
   "cell_type": "code",
   "execution_count": null,
   "metadata": {},
   "outputs": [],
   "source": [
    "# Get the number of distinct values in the categories and subcategories lists.\n",
    "num_categories = len(set(unique_categories))\n",
    "num_subcategories = len(set(unique_subcategories))\n",
    "\n",
    "# Print the number of distinct values in the categories and subcategories lists\n",
    "print(\"Number of Unique Categories:\", num_categories)\n",
    "print(\"Number of Unique Subcategories:\", num_subcategories)\n",
    "\n",
    "#print(len(categories))\n",
    "#print(len(subcategories))"
   ]
  },
  {
   "cell_type": "code",
   "execution_count": null,
   "metadata": {},
   "outputs": [],
   "source": [
    "# Create numpy arrays from 1-9 for the categories and 1-24 for the subcategories.\n",
    "# Create numpy arrays for category_ids and subcategory_ids\n",
    "category_ids = np.arange(1, 10)\n",
    "subcategory_ids = np.arange(1, 25)\n",
    "\n",
    "# Print the numpy arrays\n",
    "print(\"Category IDs:\", category_ids)\n",
    "print(\"Subcategory IDs:\", subcategory_ids)\n",
    "\n",
    "# print(category_ids)\n",
    "# print(subcategory_ids)"
   ]
  },
  {
   "cell_type": "code",
   "execution_count": null,
   "metadata": {},
   "outputs": [],
   "source": [
    "# Use a list comprehension to add \"cat\" to each category_id. \n",
    "# Add \"cat\" to each category_id using list comprehension\n",
    "category_ids = range(1, num_categories+1)\n",
    "category_ids_with_cat = [\"cat\" + str(cid) for cid in category_ids]\n",
    "\n",
    "# Print the updated category and subcategory ids\n",
    "print(\"Updated Category IDs:\", category_ids_with_cat)\n",
    "\n",
    "# Use a list comprehension to add \"subcat\" to each subcategory_id.    \n",
    "# Add \"subcat\" to each subcategory_id using list comprehension\n",
    "subcategory_ids = range(1, num_subcategories+1)\n",
    "subcategory_ids_with_subcat = [\"subcat\" + str(sid) for sid in subcategory_ids]\n",
    "\n",
    "# Print the updated category and subcategory ids\n",
    "print(\"Updated Subcategory IDs:\", subcategory_ids_with_subcat)\n",
    "    \n",
    "# print(cat_ids)\n",
    "# print(scat_ids)"
   ]
  },
  {
   "cell_type": "code",
   "execution_count": null,
   "metadata": {},
   "outputs": [],
   "source": [
    "# Create a category DataFrame with the category_id array as the category_id and categories list as the category name.\n",
    "# Create a category DataFrame with the subcategory_id array as the subcategory_id and subcategories list as the subcategory name. \n",
    "\n",
    "# Create the category_df and subcategory_df DataFrames\n",
    "category_df = pd.DataFrame({ 'category_id': category_ids, 'category': unique_categories })\n",
    "subcategory_df = pd.DataFrame({ 'subcategory_id': subcategory_ids, 'subcategory': unique_subcategories })\n",
    "\n",
    "# Print the category_df and subcategory_df DataFrames\n",
    "print(\"Category DataFrame:\")\n",
    "print(category_df)\n",
    "print(\"----------------------------------------------\")\n",
    "print(\"Subcategory DataFrame:\")\n",
    "print(subcategory_df)"
   ]
  },
  {
   "cell_type": "code",
   "execution_count": null,
   "metadata": {},
   "outputs": [],
   "source": [
    "category_df"
   ]
  },
  {
   "cell_type": "code",
   "execution_count": null,
   "metadata": {},
   "outputs": [],
   "source": [
    "subcategory_df"
   ]
  },
  {
   "cell_type": "code",
   "execution_count": null,
   "metadata": {},
   "outputs": [],
   "source": [
    "print(category_df.dtypes)\n"
   ]
  },
  {
   "cell_type": "code",
   "execution_count": null,
   "metadata": {},
   "outputs": [],
   "source": [
    "print(subcategory_df.dtypes)\n"
   ]
  },
  {
   "cell_type": "code",
   "execution_count": null,
   "metadata": {},
   "outputs": [],
   "source": [
    "# Export categories_df and subcategories_df as CSV files.\n",
    "category_df.to_csv(\"Resources/category.csv\", index=False)\n",
    "\n",
    "subcategory_df.to_csv(\"Resources/subcategory.csv\", index=False)"
   ]
  },
  {
   "cell_type": "markdown",
   "metadata": {},
   "source": [
    "### Campaign DataFrame\n",
    "----\n",
    "**Create a Campaign DataFrame that has the following columns:**\n",
    "- The \"cf_id\" column.\n",
    "- The \"contact_id\" column.\n",
    "- The “company_name” column.\n",
    "- The \"blurb\" column is renamed as \"description.\"\n",
    "- The \"goal\" column.\n",
    "- The \"goal\" column is converted to a `float` datatype.\n",
    "- The \"pledged\" column is converted to a `float` datatype. \n",
    "- The \"backers_count\" column. \n",
    "- The \"country\" column.\n",
    "- The \"currency\" column.\n",
    "- The \"launched_at\" column is renamed as \"launch_date\" and converted to a datetime format. \n",
    "- The \"deadline\" column is renamed as \"end_date\" and converted to a datetime format.\n",
    "- The \"category_id\" with the unique number matching the “category_id” from the category DataFrame. \n",
    "- The \"subcategory_id\" with the unique number matching the “subcategory_id” from the subcategory DataFrame.\n",
    "- And, create a column that contains the unique four-digit contact ID number from the `contact.xlsx` file.\n",
    " \n",
    "\n",
    "Then export the DataFrame as a `campaign.csv` CSV file.\n"
   ]
  },
  {
   "cell_type": "code",
   "execution_count": null,
   "metadata": {},
   "outputs": [],
   "source": [
    "# To create the Campaign DataFrame, there are a few steps.\n",
    "# Merge the crowdfunding_info_df DataFrame with the Category and SubCategory DataFrames to get the  category_id and subcategory_id for each campaign. \n",
    "# Then add the unique four-digit contact ID number from the contact.xlsx file. The column needs to be separated into 4 columns first and the 3 top rows skipoed before saving teh updated dataframe.\n",
    "# Then rename the columns as needed\n"
   ]
  },
  {
   "cell_type": "code",
   "execution_count": null,
   "metadata": {},
   "outputs": [],
   "source": [
    "# Load the contact.xlsx file into a pandas dataframe\n",
    "contacts_df = pd.read_excel('Resources/contacts.xlsx', header=3)\n",
    "contacts_df.head()\n"
   ]
  },
  {
   "cell_type": "code",
   "execution_count": null,
   "metadata": {},
   "outputs": [],
   "source": [
    "contacts_df"
   ]
  },
  {
   "cell_type": "code",
   "execution_count": null,
   "metadata": {},
   "outputs": [],
   "source": [
    "# Split the \"contact_info\" column into 4 columns\n",
    "contacts_df[[\"contact_id\", \"name\", \"email\"]] = contacts_df[\"contact_info\"].str.split(',', n=3, expand=True)\n",
    "\n",
    "# Split the \"name\" column into two columns\n",
    "contacts_df[[\"First_name\", \"Last_name\"]] = contacts_df[\"name\"].str.split(' ', n=1,expand=True)\n",
    "\n",
    "# Drop the unnecessary columns\n",
    "contacts_df = contacts_df.drop([\"contact_info\", \"name\"], axis=1)\n",
    "\n",
    "# Remove the unnecessary leading text in each column and the extra text at the end of the email column\n",
    "contacts_df['contact_id'] = contacts_df['contact_id'].str.replace('{\"contact_id\":', '')\n",
    "contacts_df['email'] = contacts_df['email'].str.replace('\"email\": \"', '')\n",
    "contacts_df['email'] = contacts_df['email'].str.rstrip('\"}')\n",
    "contacts_df[\"Last_name\"] = contacts_df[\"Last_name\"].str.strip('\"')\n",
    "contacts_df['Last_name'] = contacts_df['Last_name'].str.replace('\"name\": \"', '')\n",
    "contacts_df['Last_name'] = contacts_df['Last_name'].str.replace('\"', '')\n",
    "contacts_df['Last_name'] = contacts_df['Last_name'].str.replace('name: ', '')\n",
    "contacts_df['First_name'] = contacts_df['Last_name']\n",
    "contacts_df['Last_name'] = contacts_df['Last_name'].str.extract(r'\\s(.*)')\n",
    "contacts_df['First_name'] = contacts_df['First_name'].str.split().str[0]\n",
    "\n",
    "#Change the datatype from object to int64 so it matches between the dataframes.\n",
    "contacts_df['contact_id'] = contacts_df['contact_id'].astype('int64')"
   ]
  },
  {
   "cell_type": "code",
   "execution_count": null,
   "metadata": {},
   "outputs": [],
   "source": [
    "# Export the DataFrame as a CSV file\n",
    "contacts_df.to_csv('contact_info.csv', index=False)"
   ]
  },
  {
   "cell_type": "code",
   "execution_count": null,
   "metadata": {},
   "outputs": [],
   "source": [
    "contacts_df.head()"
   ]
  },
  {
   "cell_type": "code",
   "execution_count": null,
   "metadata": {},
   "outputs": [],
   "source": [
    "print(contacts_df.dtypes)"
   ]
  },
  {
   "cell_type": "code",
   "execution_count": null,
   "metadata": {},
   "outputs": [],
   "source": [
    "# drop the column# Convert each row of the contacts_df into a dictionary of the dataframe through the contact_info_df\n",
    "for index, row in contacts_df.iterrows():\n",
    "    row_dict = row.to_dict()\n",
    "    print(row_dict)\n",
    "    "
   ]
  },
  {
   "cell_type": "code",
   "execution_count": null,
   "metadata": {},
   "outputs": [],
   "source": [
    "# Merge the crowdfunding_info_df DataFrame with the Category and SubCategory DataFrames\n",
    "campaign_df = crowdfunding_info_df\n",
    "campaign_df = pd.merge(crowdfunding_info_df, category_df, on='category', how='left')\n",
    "campaign_df = pd.merge(campaign_df, subcategory_df, on='subcategory', how='left')"
   ]
  },
  {
   "cell_type": "code",
   "execution_count": null,
   "metadata": {},
   "outputs": [],
   "source": [
    "# Convert contact_id column in contacts_df to int datatype\n",
    "# contacts_df['contact_id'] = contacts_df['contact_id'].astype(int)\n",
    "\n",
    "# Merge contacts_df and campaign_df on contact_id\n",
    "# merged_df = campaign_df.merge(contacts_df[['contact_id', 'contact_info']], on='contact_id')\n",
    "\n",
    "# campaign_df = pd.merge(campaign_df, contacts_df, on='contact_id', how='left')\n",
    "# campaign_df"
   ]
  },
  {
   "cell_type": "code",
   "execution_count": null,
   "metadata": {},
   "outputs": [],
   "source": [
    "# Drop the unnecessary columns from the contacts_df\n",
    "# contact_info_df = contact_info_df.drop([\"email\", \"First_name\", \"Last_name\"], axis=1)"
   ]
  },
  {
   "cell_type": "code",
   "execution_count": null,
   "metadata": {},
   "outputs": [],
   "source": [
    "# Create a copy of the crowdfunding_info_df DataFrame name campaign_df. \n",
    "campaign_df = crowdfunding_info_df.copy()\n",
    "campaign_df.head()"
   ]
  },
  {
   "cell_type": "code",
   "execution_count": null,
   "metadata": {},
   "outputs": [],
   "source": [
    "# Merge the category_df and subcategory_df into campaign_df\n",
    "campaign_df = pd.merge(campaign_df, category_df,on='category', how='left')\n",
    "campaign_df = pd.merge(campaign_df, subcategory_df,on='subcategory', how='left')\n",
    "\n",
    "campaign_df.head()"
   ]
  },
  {
   "cell_type": "code",
   "execution_count": null,
   "metadata": {},
   "outputs": [],
   "source": [
    "# Merge the \"contact_id\" column from contacts_df. \n",
    "campaign_df = pd.merge(campaign_df, contacts_df, on='contact_id', how='left')\n",
    "\n",
    "campaign_df.head()"
   ]
  },
  {
   "cell_type": "code",
   "execution_count": null,
   "metadata": {},
   "outputs": [],
   "source": [
    "# Rename the \"blurb\" column to \"description\"\n",
    "campaign_df.rename(columns={'blurb': 'description'}, inplace=True)\n",
    "campaign_df.head()"
   ]
  },
  {
   "cell_type": "code",
   "execution_count": null,
   "metadata": {},
   "outputs": [],
   "source": [
    "# Convert the \"goal\" column to float datatype\n",
    "campaign_df['goal'] = campaign_df['goal'].astype(float)\n",
    "\n",
    "# Convert the \"pledged\" column to float datatype\n",
    "campaign_df['pledged'] = campaign_df['pledged'].astype(float)\n",
    "\n",
    "print(campaign_df.dtypes)\n"
   ]
  },
  {
   "cell_type": "code",
   "execution_count": null,
   "metadata": {},
   "outputs": [],
   "source": [
    "# Rename the \"launched_at\" column to \"launch_date\" and convert to datetime format\n",
    "campaign_df.rename(columns={'launched_at': 'launch_date'}, inplace=True)\n",
    "campaign_df['launch_date'] = pd.to_datetime(campaign_df['launch_date'], unit='s')\n",
    "campaign_df.head()"
   ]
  },
  {
   "cell_type": "code",
   "execution_count": null,
   "metadata": {
    "scrolled": false
   },
   "outputs": [],
   "source": [
    "# Rename the \"deadline\" column to \"end_date\" and convert to datetime format\n",
    "campaign_df.rename(columns={'deadline': 'end_date'}, inplace=True)\n",
    "campaign_df['end_date'] = pd.to_datetime(campaign_df['end_date'], unit='s')\n",
    "campaign_df.head()\n"
   ]
  },
  {
   "cell_type": "code",
   "execution_count": null,
   "metadata": {},
   "outputs": [],
   "source": [
    "# Select the columns from crowdfunding__info_df\n",
    "campaign_df = campaign_df[['cf_id', 'contact_id', 'company_name', 'description', 'goal', 'pledged', 'backers_count', 'country', 'currency', 'launch_date', 'end_date','category_id', 'subcategory_id']].copy()\n",
    "print(campaign_df.dtypes)\n",
    "\n"
   ]
  },
  {
   "cell_type": "code",
   "execution_count": null,
   "metadata": {},
   "outputs": [],
   "source": [
    "campaign_df.head()"
   ]
  },
  {
   "cell_type": "code",
   "execution_count": null,
   "metadata": {},
   "outputs": [],
   "source": [
    "# Export the dataframe to a CSV file\n",
    "campaign_df.to_csv('campaign.csv', index=False)"
   ]
  },
  {
   "cell_type": "markdown",
   "metadata": {},
   "source": [
    "### Extract the contacts.xlsx Data."
   ]
  },
  {
   "cell_type": "code",
   "execution_count": null,
   "metadata": {},
   "outputs": [],
   "source": [
    "# see above"
   ]
  },
  {
   "cell_type": "markdown",
   "metadata": {},
   "source": [
    "### Create the Contacts DataFrame \n",
    "---\n",
    "**Create a Contacts DataFrame that has the following columns:**\n",
    "- A column named \"contact_id\"  that contains the unique number of the contact person.\n",
    "- A column named \"first_name\" that contains the first name of the contact person.\n",
    "- A column named \"last_name\" that contains the first name of the contact person.\n",
    "- A column named \"email\" that contains the email address of the contact person\n",
    "\n",
    "Then export the DataFrame as a `contacts.csv` CSV file."
   ]
  },
  {
   "cell_type": "markdown",
   "metadata": {},
   "source": [
    "### Option 1: Use Pandas to create the contacts DataFrame."
   ]
  },
  {
   "cell_type": "code",
   "execution_count": null,
   "metadata": {},
   "outputs": [],
   "source": [
    "# see above"
   ]
  },
  {
   "cell_type": "markdown",
   "metadata": {},
   "source": [
    "### Option 2: Use regex to create the contacts DataFrame."
   ]
  },
  {
   "cell_type": "code",
   "execution_count": null,
   "metadata": {},
   "outputs": [],
   "source": [
    "# see above"
   ]
  }
 ],
 "metadata": {
  "kernelspec": {
   "display_name": "Python 3 (ipykernel)",
   "language": "python",
   "name": "python3"
  },
  "language_info": {
   "codemirror_mode": {
    "name": "ipython",
    "version": 3
   },
   "file_extension": ".py",
   "mimetype": "text/x-python",
   "name": "python",
   "nbconvert_exporter": "python",
   "pygments_lexer": "ipython3",
   "version": "3.9.13"
  }
 },
 "nbformat": 4,
 "nbformat_minor": 4
}
